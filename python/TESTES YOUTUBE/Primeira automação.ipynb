{
 "cells": [
  {
   "cell_type": "markdown",
   "metadata": {},
   "source": [
    "# Automação Web com Python\n",
    "\n",
    "### Python + Selenium\n",
    "\n",
    "- 2 Requisitos:\n",
    "    - Instalar o Selenium\n",
    "    - Baixar o webdriver (chromedriver ou geckodriver)"
   ]
  },
  {
   "cell_type": "code",
   "execution_count": 6,
   "metadata": {},
   "outputs": [],
   "source": [
    "# Para aprendermos a usar, vamos uar o Python para baixar para a gente o Demonstrativo de Resultados da Magazine Luiza\n",
    "\n",
    "# Passo 1: Entrar em https://ri.magazineluiza.com.br/\n",
    "# Passo 2: Clicar em \"Planilha Dinâmica\"\n",
    "# Passo 3: Clicar em \"Clique aqui para fazer o download\"\n",
    "\n",
    "## corpo  dos comandos --->  navegador.find_element(By.XPATH,'   ').click()\n",
    "## corpo  dos comandos --->  navegador.find_element(By.ID,'   ').click()\n",
    "## corpo  dos comandos --->  navegador.find_element(By.NAME,'   ').click()\n",
    "## corpo  dos comandos --->  navegador.find_element(By.CSS_SELECTOR,'   ').click()"
   ]
  },
  {
   "cell_type": "code",
   "execution_count": 7,
   "metadata": {},
   "outputs": [],
   "source": [
    "from selenium import webdriver\n",
    "from webdriver_manager.chrome import ChromeDriverManager\n",
    "from selenium.webdriver.chrome.service import  Service\n",
    "from selenium.webdriver.common.by import By\n",
    "\n",
    "Service = Service(ChromeDriverManager().install())\n",
    "navegador = webdriver.Chrome(service=Service)\n",
    "\n",
    "navegador.get(\"https:google.com.br/\")\n",
    "\n",
    "navegador.find_element(By.XPATH,'//*[@id=\"APjFqb\"]').click()\n",
    "navegador.find_element(By.XPATH,'//*[@id=\"APjFqb\"]').send_keys(\"Oração do dia Youtube\")\n",
    "navegador.find_element(By.NAME,'btnK').click()\n",
    "\n",
    "navegador.find_element(By.XPATH,'//*[@id=\"rso\"]/div[1]/div/div/div/div/div/div[1]/div[1]/div/div/span/a/div/div').click()\n",
    "\n",
    "navegador.find_element(By.XPATH,'//*[@id=\"top-level-buttons-computed\"]/yt-button-view-model/button-view-model/button/yt-touch-feedback-shape/div').click()\n"
   ]
  },
  {
   "cell_type": "code",
   "execution_count": null,
   "metadata": {},
   "outputs": [],
   "source": []
  }
 ],
 "metadata": {
  "kernelspec": {
   "display_name": "Python 3",
   "language": "python",
   "name": "python3"
  },
  "language_info": {
   "codemirror_mode": {
    "name": "ipython",
    "version": 3
   },
   "file_extension": ".py",
   "mimetype": "text/x-python",
   "name": "python",
   "nbconvert_exporter": "python",
   "pygments_lexer": "ipython3",
   "version": "3.12.2"
  }
 },
 "nbformat": 4,
 "nbformat_minor": 4
}
